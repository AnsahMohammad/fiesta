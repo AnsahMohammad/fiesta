{
 "cells": [
  {
   "cell_type": "markdown",
   "metadata": {},
   "source": [
    "# Researching an algorithm for Randomising a set of numbers"
   ]
  },
  {
   "cell_type": "markdown",
   "metadata": {},
   "source": [
    "[1,2,3,4,5,6]\n",
    "<br>\n",
    "if i only want to use 4 elements at a specific point of time then\n",
    "<br>\n",
    "t1 = [1,2,3,4]\n",
    "and unused set will be [5,6] let it be called U\n",
    "<br>\n",
    "now for the next iteration, i can mix U and t1.<br>\n",
    "i.e t2 = U+t1\n",
    "and the unused elements out of the initial set will be assigned to U.<br>\n",
    "\n",
    "so, t2 = [5,1,6,2] U = [3,4]\n",
    "<br>\n",
    "similarly t3 = [3,5,4,1] U = [6,2]\n",
    "<br>\n",
    "and so on..\n",
    "now writing a function to create this  so that we can find periodicity of this shuffling."
   ]
  },
  {
   "cell_type": "code",
   "execution_count": 1,
   "metadata": {},
   "outputs": [],
   "source": [
    "def Shuff(t):\n",
    "    if(t%3!=0):\n",
    "        raise ValueError\n",
    "        return None\n",
    "    u_length = int(t/3)\n",
    "    kernal_length = int(t/3) * 2\n",
    "    solution = []\n",
    "    t1 = [i for i in range(1,kernal_length+1)]\n",
    "    u = [i+kernal_length+1 for i in range(u_length)]\n",
    "    initial = list(t1)\n",
    "    # print(t1)\n",
    "    # print(u)\n",
    "    solution.append(t1)\n",
    "    flag = True\n",
    "    while(True):\n",
    "        t2 = []\n",
    "        i=0\n",
    "        j=0\n",
    "        while(len(t2) != kernal_length):\n",
    "            t2.append(u[i])\n",
    "            i += 1\n",
    "            t2.append(t1[j])\n",
    "            j += 1\n",
    "        # print(\"Finished iteration \",t2)\n",
    "        u = t1[kernal_length//2:]\n",
    "        t1 = t2\n",
    "    \n",
    "        if(t2 == initial):\n",
    "            # print(\"Solution Found\")\n",
    "            break\n",
    "        solution.append(t2)\n",
    "    return solution"
   ]
  },
  {
   "cell_type": "code",
   "execution_count": 2,
   "metadata": {},
   "outputs": [],
   "source": [
    "#mathematical algorithm for Shuff Function\n",
    "def Shuff2(t):\n",
    "    if(t%3!=0):\n",
    "        raise ValueError\n",
    "    u_length = int(t/3)\n",
    "    kernal_length = int(t/3) * 2\n",
    "    solution = []\n",
    "    t1 = [i for i in range(1,t+1)]\n",
    "    initial = list(t1[:kernal_length])\n",
    "    solution.append(initial)\n",
    "    mold = [0 for i in t1]\n",
    "    while(True):\n",
    "        odds = 1\n",
    "        evens = 0\n",
    "        val = u_length*2\n",
    "        t2 = list(mold)\n",
    "        for i in range(len(t1)):\n",
    "            if(i < 1*u_length):\n",
    "                t2[i] = t1[odds]\n",
    "                # print(\"added odd\",odds)\n",
    "                odds += 2\n",
    "            elif(i>2*u_length-1):\n",
    "                t2[i] = t1[evens]\n",
    "                # print(\"added even\",evens)\n",
    "                evens += 2\n",
    "            else:\n",
    "                # print(\"added val\",val)\n",
    "                t2[i] = t1[val]\n",
    "                val += 1\n",
    "\n",
    "        t1 = t2\n",
    "        if(t2[:kernal_length] == initial):\n",
    "            break\n",
    "        solution.append(t2[:kernal_length])\n",
    "    return solution"
   ]
  },
  {
   "cell_type": "code",
   "execution_count": 3,
   "metadata": {},
   "outputs": [],
   "source": [
    "from time import time"
   ]
  },
  {
   "cell_type": "code",
   "execution_count": 11,
   "metadata": {},
   "outputs": [
    {
     "name": "stdout",
     "output_type": "stream",
     "text": [
      "Time V1 : 0.5668525695800781\n"
     ]
    }
   ],
   "source": [
    "start = time()\n",
    "Shuff(249)\n",
    "end = time()\n",
    "print(\"Time V1 : {}\".format(end - start))"
   ]
  },
  {
   "cell_type": "code",
   "execution_count": 12,
   "metadata": {},
   "outputs": [
    {
     "name": "stdout",
     "output_type": "stream",
     "text": [
      "Time V2 : 0.6435959339141846\n"
     ]
    }
   ],
   "source": [
    "start = time()\n",
    "Shuff2(249)\n",
    "end = time()\n",
    "print(\"Time V2 : {}\".format(end - start))"
   ]
  },
  {
   "cell_type": "code",
   "execution_count": 35,
   "metadata": {},
   "outputs": [
    {
     "name": "stdout",
     "output_type": "stream",
     "text": [
      "[[1, 2, 3, 4, 5, 6], [7, 1, 8, 2, 9, 3], [4, 7, 5, 1, 6, 8], [2, 4, 9, 7, 3, 5], [1, 2, 6, 4, 8, 9], [7, 1, 3, 2, 5, 6], [4, 7, 8, 1, 9, 3], [2, 4, 5, 7, 6, 8], [1, 2, 9, 4, 3, 5], [7, 1, 6, 2, 8, 9], [4, 7, 3, 1, 5, 6], [2, 4, 8, 7, 9, 3], [1, 2, 5, 4, 6, 8], [7, 1, 9, 2, 3, 5], [4, 7, 6, 1, 8, 9], [2, 4, 3, 7, 5, 6], [1, 2, 8, 4, 9, 3], [7, 1, 5, 2, 6, 8], [4, 7, 9, 1, 3, 5], [2, 4, 6, 7, 8, 9]]\n"
     ]
    }
   ],
   "source": [
    "print(Shuff(9))"
   ]
  },
  {
   "cell_type": "markdown",
   "metadata": {},
   "source": [
    "Finding the freaquency"
   ]
  },
  {
   "cell_type": "code",
   "execution_count": 25,
   "metadata": {},
   "outputs": [],
   "source": [
    "import matplotlib.pyplot as plt"
   ]
  },
  {
   "cell_type": "code",
   "execution_count": 33,
   "metadata": {},
   "outputs": [
    {
     "data": {
      "image/png": "[encoded data removed]",
      "text/plain": [
       "<Figure size 432x288 with 1 Axes>"
      ]
     },
     "metadata": {
      "needs_background": "light"
     },
     "output_type": "display_data"
    }
   ],
   "source": [
    "x = []\n",
    "y = []\n",
    "for i in range(0,100,3):\n",
    "    x.append(i)\n",
    "    y.append(len(Shuff(i)))\n",
    "\n",
    "plt.plot(x,y)\n",
    "plt.xlabel('The Samples')\n",
    "plt.ylabel('Repeatetion')\n",
    "plt.show()"
   ]
  },
  {
   "cell_type": "code",
   "execution_count": 32,
   "metadata": {},
   "outputs": [
    {
     "data": {
      "image/png": "[encoded data removed]",
      "text/plain": [
       "<Figure size 432x288 with 1 Axes>"
      ]
     },
     "metadata": {
      "needs_background": "light"
     },
     "output_type": "display_data"
    }
   ],
   "source": [
    "plt.plot(x,y)\n",
    "plt.xlabel('The Samples')\n",
    "plt.ylim(0,100)\n",
    "plt.xlim(10)\n",
    "plt.ylabel('Repeatetion')\n",
    "plt.show()"
   ]
  },
  {
   "cell_type": "code",
   "execution_count": 34,
   "metadata": {},
   "outputs": [
    {
     "data": {
      "image/png": "[encoded data removed]",
      "text/plain": [
       "<Figure size 432x288 with 1 Axes>"
      ]
     },
     "metadata": {
      "needs_background": "light"
     },
     "output_type": "display_data"
    }
   ],
   "source": [
    "plt.plot(x,y)\n",
    "plt.xlabel('The Samples')\n",
    "plt.xlim(60,80)\n",
    "plt.ylabel('Repeatetion')\n",
    "plt.show()"
   ]
  },
  {
   "cell_type": "code",
   "execution_count": 68,
   "metadata": {},
   "outputs": [
    {
     "data": {
      "text/plain": [
       "[]"
      ]
     },
     "execution_count": 68,
     "metadata": {},
     "output_type": "execute_result"
    },
    {
     "data": {
      "image/png": "[encoded data removed]",
      "text/plain": [
       "<Figure size 432x288 with 1 Axes>"
      ]
     },
     "metadata": {
      "needs_background": "light"
     },
     "output_type": "display_data"
    }
   ],
   "source": [
    "plt.hist2d(x,y)\n",
    "plt.plot()"
   ]
  },
  {
   "cell_type": "code",
   "execution_count": 46,
   "metadata": {},
   "outputs": [
    {
     "data": {
      "text/plain": [
       "{'whiskers': [<matplotlib.lines.Line2D at 0x1dd512aea60>,\n",
       "  <matplotlib.lines.Line2D at 0x1dd512aedf0>],\n",
       " 'caps': [<matplotlib.lines.Line2D at 0x1dd512bb1c0>,\n",
       "  <matplotlib.lines.Line2D at 0x1dd512bb550>],\n",
       " 'boxes': [<matplotlib.lines.Line2D at 0x1dd512ae6d0>],\n",
       " 'medians': [<matplotlib.lines.Line2D at 0x1dd512bb8e0>],\n",
       " 'fliers': [<matplotlib.lines.Line2D at 0x1dd512bbc70>],\n",
       " 'means': []}"
      ]
     },
     "execution_count": 46,
     "metadata": {},
     "output_type": "execute_result"
    },
    {
     "data": {
      "image/png": "[encoded data removed]",
      "text/plain": [
       "<Figure size 432x288 with 1 Axes>"
      ]
     },
     "metadata": {
      "needs_background": "light"
     },
     "output_type": "display_data"
    }
   ],
   "source": [
    "plt.boxplot(y)"
   ]
  },
  {
   "cell_type": "code",
   "execution_count": 66,
   "metadata": {},
   "outputs": [
    {
     "data": {
      "text/plain": [
       "(0.0, 25000.0)"
      ]
     },
     "execution_count": 66,
     "metadata": {},
     "output_type": "execute_result"
    },
    {
     "data": {
      "image/png": "[encoded data removed]",
      "text/plain": [
       "<Figure size 432x288 with 1 Axes>"
      ]
     },
     "metadata": {
      "needs_background": "light"
     },
     "output_type": "display_data"
    }
   ],
   "source": [
    "plt.boxplot(y)\n",
    "plt.ylim(0,25000)"
   ]
  },
  {
   "cell_type": "code",
   "execution_count": 47,
   "metadata": {},
   "outputs": [],
   "source": [
    "import numpy as np\n",
    "y = np.array(y)\n",
    "x = np.array(x)"
   ]
  },
  {
   "cell_type": "code",
   "execution_count": 53,
   "metadata": {},
   "outputs": [
    {
     "name": "stdout",
     "output_type": "stream",
     "text": [
      "1 203490\n"
     ]
    }
   ],
   "source": [
    "print(y.min(),y.max())"
   ]
  },
  {
   "cell_type": "code",
   "execution_count": 51,
   "metadata": {},
   "outputs": [
    {
     "name": "stdout",
     "output_type": "stream",
     "text": [
      "203490\n"
     ]
    }
   ],
   "source": [
    "print(y.max())"
   ]
  },
  {
   "cell_type": "code",
   "execution_count": 62,
   "metadata": {},
   "outputs": [
    {
     "name": "stdout",
     "output_type": "stream",
     "text": [
      "{0: 1, 3: 3, 6: 6, 9: 20, 12: 9, 15: 15, 18: 18, 21: 210, 24: 12, 27: 27, 30: 120, 33: 90, 36: 30, 39: 27, 42: 42, 45: 504, 48: 15, 51: 19380, 54: 54, 57: 720, 60: 30, 63: 21, 66: 203490, 69: 1184, 72: 4960, 75: 60060, 78: 78, 81: 3360, 84: 27, 87: 87, 90: 90, 93: 27720, 96: 18, 99: 99}\n",
      "Max x:[66] y:203490\n",
      "Min x:[0] y:1\n"
     ]
    }
   ],
   "source": [
    "max_x = [x[i] for i in range(len(x)) if y[i] == y.max()]\n",
    "min_x = [x[i] for i in range(len(x)) if y[i] == y.min()]\n",
    "samples = {x[i]: y[i] for i in range(len(x))}\n",
    "print(samples)\n",
    "print(\"Max x:{} y:{}\".format(max_x,y.max()))\n",
    "print(\"Min x:{} y:{}\".format(min_x,y.min()))"
   ]
  },
  {
   "cell_type": "markdown",
   "metadata": {},
   "source": [
    "### Observation\n",
    "<ul>\n",
    "<li> Minimum freaquency : 1 for x = 0 </li>\n",
    "<li> Maximum Freaquency : 203490 for x = 66</li>\n",
    "<li> Values of x for which x==y : [3,6,15,18,27,42,54,87,90,99]</li>\n",
    "<li> Graph showed aggressive rise in freaquency for x=66 </li>\n",
    "<li> Box Plot showed Data was heavily skewed because of aggressive increment in freequency for x = 66</li>\n",
    "<li> x = [51,69,72,75,93]</li>\n",
    "</ul>"
   ]
  },
  {
   "cell_type": "markdown",
   "metadata": {},
   "source": [
    "## Conclusion\n",
    "<br>\n",
    "The Freaquency contrary to the assumption was unable to explain.\n",
    "\n"
   ]
  },
  {
   "cell_type": "markdown",
   "metadata": {},
   "source": [
    "## Appendix\n",
    "\n",
    "For values of x till 126 <hr>\n",
    "\n",
    "{0: 1, 3: 3, 6: 6, 9: 20, 12: 9, 15: 15, 18: 18, 21: 210, 24: 12, 27: 27,<br> 30: 120, 33: 90, 36: 30, 39: 27, 42: 42, 45: 504, 48: 15, 51: 19380, 54: 54, 57: 720, 60: 30, 63: 21, 66: 203490, 69: 1184, 72: 4960, 75: <br>60060, 78: 78, 81: 3360, 84: 27, 87: 87, 90: 90, 93: 27720, 96: 18,<br> 99: 99, 102: 990, 105: 392, 108: 5460, 111: 188790, 114: 180, 117: 3416, <br>120: 81, 123: 123, 126: 60060}\n",
    "Max x:[66] y:203490<br>\n",
    "Min x:[0] y:1<br>\n",
    "<hr>\n",
    "<img src=img.png>"
   ]
  },
  {
   "cell_type": "markdown",
   "metadata": {},
   "source": []
  }
 ],
 "metadata": {
  "kernelspec": {
   "display_name": "Python 3.9.5 64-bit",
   "language": "python",
   "name": "python3"
  },
  "language_info": {
   "codemirror_mode": {
    "name": "ipython",
    "version": 3
   },
   "file_extension": ".py",
   "mimetype": "text/x-python",
   "name": "python",
   "nbconvert_exporter": "python",
   "pygments_lexer": "ipython3",
   "version": "3.9.5"
  },
  "orig_nbformat": 4,
  "vscode": {
   "interpreter": {
    "hash": "a03c00cd90ff7f386b865d3be61500a338b6b15a4e24e06ba98453dc38e822c0"
   }
  }
 },
 "nbformat": 4,
 "nbformat_minor": 2
}
